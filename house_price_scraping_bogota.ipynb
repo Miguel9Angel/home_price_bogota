{
 "cells": [
  {
   "cell_type": "code",
   "execution_count": 1,
   "metadata": {},
   "outputs": [],
   "source": [
    "from bs4 import BeautifulSoup\n",
    "import pandas as pd\n",
    "import requests\n",
    "import json\n",
    "import time\n",
    "import random\n",
    "\n",
    "\n",
    "\n",
    "def check_data(data):\n",
    "    try:\n",
    "        technicalSheet = data['props']['pageProps']['data']['technicalSheet']\n",
    "        longitude = data['props']['pageProps']['data']['longitude']\n",
    "        latitude = data['props']['pageProps']['data']['latitude']\n",
    "        stratum = technicalSheet[0]['value'] if technicalSheet[0]['value'] is not None  else 0\n",
    "        bathrooms = technicalSheet[3]['value'] if technicalSheet[3]['value'] is not None  else 0\n",
    "        constructed_area = float(technicalSheet[4]['value'].replace('  m2', '').replace(',', '')) if technicalSheet[4]['value'] is not None  else 0\n",
    "        house_age = technicalSheet[6]['value'] \n",
    "        bedrooms = technicalSheet[7]['value'] if technicalSheet[7]['value'] is not None  else 0\n",
    "        parking = technicalSheet[8]['value'] if technicalSheet[8]['value'] is not None  else 0\n",
    "        administration = float(technicalSheet[9]['value'].replace(',', '')) if technicalSheet[9]['value'] is not None  else 0\n",
    "        floor = technicalSheet[10]['value'] if technicalSheet[10]['value'] is not None  else 0\n",
    "        rent_price = data['props']['pageProps']['data']['price']['amount'] \n",
    "        rent_price = rent_price if rent_price is not None else 0\n",
    "        facilities = [i['name'] for i in data['props']['pageProps']['data']['facilities']]\n",
    "        \n",
    "        if house_age is not None and house_age != 'menor a 1 año' and house_age != 'más de 30 años':\n",
    "            age_range = house_age.replace(' años', '').split(' a ')\n",
    "            age_range = list(map(int, age_range))\n",
    "            house_age = int(sum(age_range)/len(age_range))\n",
    "        else: \n",
    "            if house_age == 'más de 30 años':\n",
    "                house_age = 31\n",
    "            else:\n",
    "                house_age = 0\n",
    "        \n",
    "        return [longitude, latitude, stratum, bathrooms, constructed_area, house_age, bedrooms, parking, administration, floor, rent_price, facilities]\n",
    "    \n",
    "    except KeyError as e:\n",
    "        print(f'Error: clave {e} no encontrada en los datos JSON.')\n",
    "        return [None]*12"
   ]
  },
  {
   "cell_type": "code",
   "execution_count": 2,
   "metadata": {},
   "outputs": [
    {
     "name": "stdout",
     "output_type": "stream",
     "text": [
      "Error: clave 'data' no encontrada en los datos JSON.\n"
     ]
    },
    {
     "name": "stderr",
     "output_type": "stream",
     "text": [
      "C:\\Users\\konec\\AppData\\Local\\Temp\\ipykernel_39340\\2818125285.py:40: FutureWarning: The behavior of DataFrame concatenation with empty or all-NA entries is deprecated. In a future version, this will no longer exclude empty or all-NA columns when determining the result dtypes. To retain the old behavior, exclude the relevant entries before the concat operation.\n",
      "  df.loc[len(df)] = check_data(json_data)\n"
     ]
    },
    {
     "name": "stdout",
     "output_type": "stream",
     "text": [
      "No se encontró el script en https://www.fincaraiz.com.co/apartamento-en-arriendo-en-los-rosales-bogota/191984932\n",
      "No se encontró el script en https://www.fincaraiz.com.co/apartamento-en-arriendo-en-puente-grande-bogota/192438635\n",
      "No se encontró el script en https://www.fincaraiz.com.co/apartamento-en-arriendo-en-chico-norte-bogota/191073727\n",
      "Error: clave 'data' no encontrada en los datos JSON.\n"
     ]
    },
    {
     "name": "stderr",
     "output_type": "stream",
     "text": [
      "C:\\Users\\konec\\AppData\\Local\\Temp\\ipykernel_39340\\2818125285.py:40: FutureWarning: The behavior of DataFrame concatenation with empty or all-NA entries is deprecated. In a future version, this will no longer exclude empty or all-NA columns when determining the result dtypes. To retain the old behavior, exclude the relevant entries before the concat operation.\n",
      "  df.loc[len(df)] = check_data(json_data)\n"
     ]
    },
    {
     "name": "stdout",
     "output_type": "stream",
     "text": [
      "No se encontró el script en https://www.fincaraiz.com.co/apartamento-en-arriendo-en-la-cabaña-bogota/192566301\n",
      "No se encontró el script en https://www.fincaraiz.com.co/apartamento-en-arriendo-en-toberin-bogota/192314630\n",
      "No se encontró el script en https://www.fincaraiz.com.co/apartamento-en-arriendo-en-virrey-bogota/192575015\n",
      "No se encontró el script en https://www.fincaraiz.com.co/apartamento-en-arriendo-en-suba-bogota/192138696\n",
      "No se encontró el script en https://www.fincaraiz.com.co/apartamento-en-arriendo-en-cedritos-bogota/192565289\n",
      "No se encontró el script en https://www.fincaraiz.com.co/apartamento-en-arriendo-en-santa-barbara-bogota/10887346\n",
      "No se encontró el script en https://www.fincaraiz.com.co/apartamento-en-arriendo-en-santa-ana-centro-comercial-boutique-bogota/10581140\n",
      "No se encontró el script en https://www.fincaraiz.com.co/apartamento-en-arriendo-en-zona-chapinero-bogota/192549270\n",
      "No se encontró el script en https://www.fincaraiz.com.co/apartamento-en-arriendo-en-usaquen-bogota/192240579\n",
      "No se encontró el script en https://www.fincaraiz.com.co/apartamento-en-arriendo-en-santa-barbara-bogota/10611833\n",
      "Error: clave 'data' no encontrada en los datos JSON.\n"
     ]
    },
    {
     "name": "stderr",
     "output_type": "stream",
     "text": [
      "C:\\Users\\konec\\AppData\\Local\\Temp\\ipykernel_39340\\2818125285.py:40: FutureWarning: The behavior of DataFrame concatenation with empty or all-NA entries is deprecated. In a future version, this will no longer exclude empty or all-NA columns when determining the result dtypes. To retain the old behavior, exclude the relevant entries before the concat operation.\n",
      "  df.loc[len(df)] = check_data(json_data)\n"
     ]
    },
    {
     "name": "stdout",
     "output_type": "stream",
     "text": [
      "No se encontró el script en https://www.fincaraiz.com.co/apartamento-en-arriendo-en-montearroyo-bogota/191850166\n",
      "No se encontró el script en https://www.fincaraiz.com.co/apartamento-en-arriendo-en-el-redil-bogota/192577089\n",
      "No se encontró el script en https://www.fincaraiz.com.co/apartamento-en-arriendo-en-la-carolina-bogota/192204641\n",
      "No se encontró el script en https://www.fincaraiz.com.co/apartamento-en-arriendo-en-canaima-bogota/192291112\n",
      "No se encontró el script en https://www.fincaraiz.com.co/apartamento-en-arriendo-en-arrayanes-bogota/192516581\n",
      "No se encontró el script en https://www.fincaraiz.com.co/apartamento-en-arriendo-en-palermo-bogota/192548822\n",
      "No se encontró el script en https://www.fincaraiz.com.co/apartamento-en-arriendo-en-castilla-bogota/192515095\n",
      "No se encontró el script en https://www.fincaraiz.com.co/apartamento-en-arriendo-en-virrey-bogota/192504383\n",
      "No se encontró el script en https://www.fincaraiz.com.co/apartamento-en-arriendo-en-la-cabrera-bogota/192518813\n",
      "No se encontró el script en https://www.fincaraiz.com.co/apartamento-en-arriendo-en-chico-alto-bogota/192219703\n",
      "No se encontró el script en https://www.fincaraiz.com.co/apartamento-en-arriendo-en-bella-suiza-bogota/192494064\n",
      "      longitude  latitude stratum bathrooms  constructed_area house_age  \\\n",
      "0    -74.048398  4.700991       5         2              97.0        12   \n",
      "1    -74.055693  4.687506       6         1              42.0        12   \n",
      "2    -74.052512  4.675927       6         4             116.0        23   \n",
      "3    -74.049210  4.672860       5         3             138.0        23   \n",
      "4    -74.050727  4.700429       5         2              78.0        23   \n",
      "...         ...       ...     ...       ...               ...       ...   \n",
      "8560 -74.033730  4.730423       4         2              74.0        12   \n",
      "8561 -74.036082  4.725793       4         2              80.0        12   \n",
      "8562 -74.103558  4.745700       2         1              20.0        31   \n",
      "8563 -74.049106  4.667336       6         4             258.0         4   \n",
      "8564 -74.043787  4.691049       6         2              50.0         0   \n",
      "\n",
      "     bedrooms parking  administration floor rent_price  \\\n",
      "0           2       2             0.0     0    4500000   \n",
      "1           1       1             0.0     5    2800000   \n",
      "2           4       2             0.0     7    5500000   \n",
      "3           3       2             0.0     4    8000000   \n",
      "4           3       1             0.0     3    4000000   \n",
      "...       ...     ...             ...   ...        ...   \n",
      "8560        2       1             0.0    11    2400000   \n",
      "8561        3       1             0.0     5    2500000   \n",
      "8562        1       0             0.0     1     900000   \n",
      "8563        4       3       3055000.0    11   20000000   \n",
      "8564        1       0             0.0     3    2800000   \n",
      "\n",
      "                                             facilities  \n",
      "0                                                    []  \n",
      "1     [Ascensor, Balcón, Caldera, Calentador, Citófo...  \n",
      "2     [Baño Auxiliar, Calentador, Chimenea, Citófono...  \n",
      "3     [Acceso Pavimentado, Amoblado, Ascensor, Baño ...  \n",
      "4     [Acceso Pavimentado, Ascensor, Baño Independie...  \n",
      "...                                                 ...  \n",
      "8560  [Ascensor, Calentador, Cocina Integral, Colegi...  \n",
      "8561  [Balcón, Baño Auxiliar, Chimenea, Circuito cer...  \n",
      "8562  [Colegios / Universidades, Instalación de gas,...  \n",
      "8563  [Alarma, Ascensor, Balcón, Barra estilo americ...  \n",
      "8564  [Citófono, Colegios / Universidades, Garaje(s)...  \n",
      "\n",
      "[8565 rows x 12 columns]\n"
     ]
    }
   ],
   "source": [
    "df = pd.DataFrame(columns=['longitude', 'latitude', 'stratum', 'bathrooms', 'constructed_area', 'house_age', 'bedrooms', 'parking', 'administration', 'floor', 'rent_price', 'facilities'])\n",
    "n_pages = 410\n",
    "next_page = ''\n",
    "\n",
    "headers = {\n",
    "    # Encabezado User-Agent que indica: navegador compatible con Mozilla, en Windows 10 (64-bit), usando el motor \n",
    "    # WebKit como Chrome v91, con referencias a Gecko y Safari para compatibilidad\n",
    "    \"User-Agent\": \"Mozilla/5.0 (Windows NT 10.0; Win64; x64) AppleWebKit/537.36 (KHTML, like Gecko) Chrome/91.0.4472.124 Safari/537.36\"\n",
    "}\n",
    "\n",
    "session = requests.Session()\n",
    "# itera sobre las 200 primeras paginas de apartamentos en arriendo en finca raiz\n",
    "for i in range(1, n_pages+1):\n",
    "    # Se usa try para prevenir errores y no suspenda la consulta\n",
    "    try:\n",
    "        url = 'https://www.fincaraiz.com.co/arriendo/apartamentos/bogota/bogota-dc' + next_page\n",
    "        html_text = session.get(url, headers=headers).text\n",
    "    except requests.exceptions.RequestException as e:\n",
    "        print(f'Error al conectar con la pagina {url}\\n {e}')\n",
    "        continue\n",
    "    \n",
    "    #la siguiente linea pausa la ejecucion del codigo durante un tiempo aleatorio entre 1 y 4 seg para evitar que la pagina bloquee las consultas\n",
    "    time.sleep(random.uniform(1, 4))\n",
    "    #El archivo html se convierte a archivo lxml que una estructura mas eficiente para buscar en el DOM\n",
    "    soup1 = BeautifulSoup(html_text, 'lxml')\n",
    "    #Esta linea busca todos los links con la clase 'lc-cardCover' que son las cards de los apartamentos\n",
    "    cards = soup1.find_all('a', class_ = 'lc-cardCover')\n",
    "\n",
    "    #Se itera sobre todas las cards obtenidas y se extrae el atributo href para hacer la consulta al apartamento especifico\n",
    "    for j in cards:\n",
    "        try:\n",
    "            url_apartment_features = 'https://www.fincaraiz.com.co'+j.get('href')\n",
    "            apartment_features = session.get(url_apartment_features, headers=headers).text\n",
    "            soup_apartment_f = BeautifulSoup(apartment_features, 'lxml')\n",
    "            script_data = soup_apartment_f.find('script', id='__NEXT_DATA__')\n",
    "            if script_data:\n",
    "                #Se convierte script_data de JSON a un diccionario de Python para acceder facilmente a los datos\n",
    "                json_data = json.loads(script_data.string)\n",
    "                #Se extraen los features con check_data y se agregan al dataframe\n",
    "                df.loc[len(df)] = check_data(json_data)\n",
    "            else:\n",
    "                print(f\"No se encontró el script en {url_apartment_features}\")\n",
    "            #Nuevamente se demora la consulta para evitar bloqueos\n",
    "            time.sleep(random.uniform(1,4))\n",
    "        except requests.exceptions.RequestException as e:\n",
    "            print(f'Error al conectar con la card {url_apartment_features}\\n {e}')\n",
    "            continue\n",
    "    #Cuando se consultan todas las cards se cambia de pagina agregando 'pagina' y el numero consecutivo\n",
    "    next_page = 'pagina' + str(i+1)\n",
    "    \n",
    "df.to_csv('Real_State_Bogota3.csv', index=False)\n",
    "print(df)"
   ]
  },
  {
   "cell_type": "code",
   "execution_count": 3,
   "metadata": {},
   "outputs": [],
   "source": [
    "data = pd.read_csv('Real_State_Bogota1.csv')"
   ]
  }
 ],
 "metadata": {
  "kernelspec": {
   "display_name": "base",
   "language": "python",
   "name": "python3"
  },
  "language_info": {
   "codemirror_mode": {
    "name": "ipython",
    "version": 3
   },
   "file_extension": ".py",
   "mimetype": "text/x-python",
   "name": "python",
   "nbconvert_exporter": "python",
   "pygments_lexer": "ipython3",
   "version": "3.13.2"
  }
 },
 "nbformat": 4,
 "nbformat_minor": 2
}
